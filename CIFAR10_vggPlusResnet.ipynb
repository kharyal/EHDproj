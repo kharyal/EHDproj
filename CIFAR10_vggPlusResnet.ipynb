{
  "nbformat": 4,
  "nbformat_minor": 0,
  "metadata": {
    "colab": {
      "name": "CIFAR10_VGGNET.ipynb",
      "version": "0.3.2",
      "provenance": [],
      "collapsed_sections": [],
      "include_colab_link": true
    },
    "kernelspec": {
      "name": "python3",
      "display_name": "Python 3"
    },
    "accelerator": "GPU"
  },
  "cells": [
    {
      "cell_type": "markdown",
      "metadata": {
        "id": "view-in-github",
        "colab_type": "text"
      },
      "source": [
        "<a href=\"https://colab.research.google.com/github/kharyal/EHDproj/blob/master/CIFAR10_vggPlusResnet.ipynb\" target=\"_parent\"><img src=\"https://colab.research.google.com/assets/colab-badge.svg\" alt=\"Open In Colab\"/></a>"
      ]
    },
    {
      "cell_type": "code",
      "metadata": {
        "id": "tDS-3UAaZTRF",
        "colab_type": "code",
        "colab": {}
      },
      "source": [
        "import torch\n",
        "import torch.nn as nn\n",
        "import torchvision.transforms as transforms\n",
        "import torchvision.datasets as dsets\n",
        "from torch.autograd import Variable\n",
        "import torchvision\n",
        "import torch.nn as nn\n",
        "import torch.nn.functional as F\n",
        "import torch.optim as optim\n",
        "import numpy as np\n",
        "import matplotlib.pyplot as plt\n",
        "from copy import deepcopy"
      ],
      "execution_count": 0,
      "outputs": []
    },
    {
      "cell_type": "code",
      "metadata": {
        "id": "FTuMTHuPZiZe",
        "colab_type": "code",
        "outputId": "55cbfe4d-68cc-4a9e-fccd-db2bc7026aa3",
        "colab": {
          "base_uri": "https://localhost:8080/",
          "height": 34
        }
      },
      "source": [
        "batch_size=64\n",
        "mean = [0.4913997551666284, 0.48215855929893703, 0.4465309133731618]\n",
        "std = [0.24703225141799082, 0.24348516474564, 0.26158783926049628]\n",
        "transform = transforms.Compose([transforms.ToTensor(),transforms.Normalize(mean,std)])\n",
        "trainset=dsets.CIFAR10(root='./data',train=True,\n",
        "                       transform=transform,\n",
        "                       download=True)\n",
        "testset=dsets.CIFAR10(root='./data',\n",
        "                      train=False,\n",
        "                     transform=transform)\n",
        "train_batch=torch.utils.data.DataLoader(dataset=trainset,\n",
        "                                       batch_size=batch_size,\n",
        "                                       shuffle=True,\n",
        "                                       num_workers=2)\n",
        "test_batch=torch.utils.data.DataLoader(dataset=testset,\n",
        "                                      batch_size=batch_size,\n",
        "                                      shuffle=False,\n",
        "                                      num_workers=2)\n",
        "classes = ('plane', 'car', 'bird', 'cat','deer', 'dog', 'frog', 'horse', 'ship', 'truck')"
      ],
      "execution_count": 186,
      "outputs": [
        {
          "output_type": "stream",
          "text": [
            "Files already downloaded and verified\n"
          ],
          "name": "stdout"
        }
      ]
    },
    {
      "cell_type": "code",
      "metadata": {
        "id": "-JGqbor26DEc",
        "colab_type": "code",
        "colab": {
          "base_uri": "https://localhost:8080/",
          "height": 303
        },
        "outputId": "c73ef019-68df-405b-9460-09f57a4d4837"
      },
      "source": [
        "print(trainset.data.shape) # 50,000 images of 32*32*3 dimensions\n",
        "plt.imshow(trainset.data[129])"
      ],
      "execution_count": 187,
      "outputs": [
        {
          "output_type": "stream",
          "text": [
            "(50000, 32, 32, 3)\n"
          ],
          "name": "stdout"
        },
        {
          "output_type": "execute_result",
          "data": {
            "text/plain": [
              "<matplotlib.image.AxesImage at 0x7f0c90088400>"
            ]
          },
          "metadata": {
            "tags": []
          },
          "execution_count": 187
        },
        {
          "output_type": "display_data",
          "data": {
            "image/png": "[encoded data removed]",
            "text/plain": [
              "<Figure size 432x288 with 1 Axes>"
            ]
          },
          "metadata": {
            "tags": []
          }
        }
      ]
    },
    {
      "cell_type": "code",
      "metadata": {
        "id": "FY4F-XWfdL5i",
        "colab_type": "code",
        "colab": {}
      },
      "source": [
        "class net(nn.Module):\n",
        "  def __init__(self):\n",
        "    super(net,self).__init__()\n",
        "#     self.pad1=nn.ZeroPad2d()\n",
        "    self.conv1=nn.Conv2d(3,16,3,stride=1,padding=1)\n",
        "    self.conv2=nn.Conv2d(16,16,3,stride=1,padding=1)\n",
        "    self.pool1=nn.MaxPool2d(2,2)\n",
        "    self.conv3=nn.Conv2d(16,32,3,stride=1,padding=1)\n",
        "    self.conv4=nn.Conv2d(32,32,3,stride=1,padding=1)    \n",
        "    self.pool2=nn.MaxPool2d(2,2)\n",
        "    self.conv5=nn.Conv2d(32,64,3,stride=1,padding=1)    \n",
        "    self.conv6=nn.Conv2d(64,64,3,stride=1,padding=1)\n",
        "    self.pool3=nn.MaxPool2d(2,2)\n",
        "    self.conv7=nn.Conv2d(64,128,3,stride=1,padding=1)    \n",
        "    self.conv8=nn.Conv2d(128,128,3,stride=1,padding=1)\n",
        "    self.conv9=nn.Conv2d(128,256,3,stride=1,padding=1)    \n",
        "    self.pool4=nn.MaxPool2d(2,2)\n",
        "    self.conv10=nn.Conv2d(256,256,3,stride=1,padding=1)\n",
        "    self.conv11=nn.Conv2d(256,256,3,stride=1,padding=1)\n",
        "    self.conv12=nn.Conv2d(256,256,3,stride=1,padding=1)\n",
        "    self.conv13=nn.Conv2d(256,256,3,stride=1,padding=1)\n",
        "    self.conv14=nn.Conv2d(256,256,3,stride=1,padding=1)\n",
        "    self.conv15=nn.Conv2d(256,256,3,stride=1,padding=1)\n",
        "    self.conv16=nn.Conv2d(256,256,3,stride=1,padding=1)\n",
        "    self.fc1=nn.Linear(1024,1024)\n",
        "    self.fc2=nn.Linear(1024,1024)\n",
        "    self.fc3=nn.Linear(1024,10)\n",
        "    \n",
        "  \n",
        "  def forward(self,x):\n",
        "    x=F.relu(self.conv1(x))\n",
        "    x=F.relu(self.conv2(x))\n",
        "    x=self.pool1(x)\n",
        "    x=F.relu(self.conv3(x))\n",
        "    x=F.relu(self.conv4(x))\n",
        "    x=self.pool2(x)\n",
        "    x=F.relu(self.conv5(x))\n",
        "    x=F.relu(self.conv6(x))\n",
        "    x=self.pool3(x)\n",
        "    x=F.relu(self.conv7(x))\n",
        "    x=F.relu(self.conv8(x))\n",
        "    x=F.relu(self.conv9(x))\n",
        "    x=self.pool4(x)\n",
        "    x1=F.relu(self.conv10(x))\n",
        "    x1=x+F.relu(self.conv11(x1))\n",
        "    x2=F.relu(self.conv12(x1))\n",
        "    x2=x1+F.relu(self.conv13(x2))\n",
        "    x3=F.relu(self.conv14(x2))\n",
        "    x3=x2+F.relu(self.conv15(x3))\n",
        "    x=F.relu(self.conv16(x3))\n",
        "    x=x.view(-1,x.size(1) * x.size(2) * x.size(3))\n",
        "#     print(x.shape)\n",
        "    x=F.relu(self.fc1(x))\n",
        "    x=F.relu(self.fc2(x))\n",
        "    x=self.fc3(x)\n",
        "    return x"
      ],
      "execution_count": 0,
      "outputs": []
    },
    {
      "cell_type": "code",
      "metadata": {
        "id": "-MRGsWr4OOLY",
        "colab_type": "code",
        "colab": {}
      },
      "source": [
        "network=net()\n",
        "if torch.cuda.is_available():\n",
        "  network.cuda()\n",
        "loss_function = nn.CrossEntropyLoss()\n",
        "optimizer = torch.optim.Adam(network.parameters(), lr=0.0001)"
      ],
      "execution_count": 0,
      "outputs": []
    },
    {
      "cell_type": "code",
      "metadata": {
        "id": "aMZGFUJFOnda",
        "colab_type": "code",
        "outputId": "f57a2089-420b-4ea8-a430-ede2988f139a",
        "colab": {
          "base_uri": "https://localhost:8080/",
          "height": 2331
        }
      },
      "source": [
        "for epoch in range(15):\n",
        "  lossTotal=0\n",
        "  for i, (images, labels) in enumerate(train_batch):\n",
        "    images=Variable(images).cuda()\n",
        "    labels=Variable(labels).cuda()\n",
        "    \n",
        "    optimizer.zero_grad()\n",
        "    op=network(images)\n",
        "    loss=loss_function(op,labels)\n",
        "    loss.backward()\n",
        "    lossTotal=lossTotal+loss.item()\n",
        "    optimizer.step()\n",
        "    if i%100 ==0:\n",
        "      print(\"local loss: \",loss.item())\n",
        "  print(\"######## end of EPOCH: \",epoch+1,\" LOSS: \",lossTotal,\" ########\")"
      ],
      "execution_count": 190,
      "outputs": [
        {
          "output_type": "stream",
          "text": [
            "local loss:  2.3024864196777344\n",
            "local loss:  2.2386059761047363\n",
            "local loss:  1.9003804922103882\n",
            "local loss:  1.8787579536437988\n",
            "local loss:  1.8701976537704468\n",
            "local loss:  2.0208847522735596\n",
            "local loss:  1.8484792709350586\n",
            "local loss:  1.74893057346344\n",
            "######## end of EPOCH:  1  LOSS:  1549.4711158275604  ########\n",
            "local loss:  2.006174087524414\n",
            "local loss:  1.8991669416427612\n",
            "local loss:  1.802783727645874\n",
            "local loss:  1.8323256969451904\n",
            "local loss:  1.850560188293457\n",
            "local loss:  1.6103293895721436\n",
            "local loss:  1.6954292058944702\n",
            "local loss:  1.7262121438980103\n",
            "######## end of EPOCH:  2  LOSS:  1357.3904691934586  ########\n",
            "local loss:  1.5127966403961182\n",
            "local loss:  1.568825364112854\n",
            "local loss:  1.5436170101165771\n",
            "local loss:  1.4644930362701416\n",
            "local loss:  1.6651376485824585\n",
            "local loss:  1.473800778388977\n",
            "local loss:  1.511129379272461\n",
            "local loss:  1.5921701192855835\n",
            "######## end of EPOCH:  3  LOSS:  1225.8101818561554  ########\n",
            "local loss:  1.389676570892334\n",
            "local loss:  1.5357255935668945\n",
            "local loss:  1.3190910816192627\n",
            "local loss:  1.4693886041641235\n",
            "local loss:  1.4756056070327759\n",
            "local loss:  1.6598137617111206\n",
            "local loss:  1.5614848136901855\n",
            "local loss:  1.6230794191360474\n",
            "######## end of EPOCH:  4  LOSS:  1119.4919538497925  ########\n",
            "local loss:  1.3997021913528442\n",
            "local loss:  1.2389044761657715\n",
            "local loss:  1.3104406595230103\n",
            "local loss:  1.3848422765731812\n",
            "local loss:  1.3859593868255615\n",
            "local loss:  1.2200826406478882\n",
            "local loss:  1.1174226999282837\n",
            "local loss:  1.2515963315963745\n",
            "######## end of EPOCH:  5  LOSS:  1022.9102956652641  ########\n",
            "local loss:  1.2419607639312744\n",
            "local loss:  0.8899742960929871\n",
            "local loss:  1.1518040895462036\n",
            "local loss:  1.3353002071380615\n",
            "local loss:  1.1728657484054565\n",
            "local loss:  1.1595712900161743\n",
            "local loss:  1.37827467918396\n",
            "local loss:  1.0908173322677612\n",
            "######## end of EPOCH:  6  LOSS:  941.1856819391251  ########\n",
            "local loss:  0.996513307094574\n",
            "local loss:  1.2004839181900024\n",
            "local loss:  1.0267343521118164\n",
            "local loss:  1.0674232244491577\n",
            "local loss:  1.184239387512207\n",
            "local loss:  1.2711410522460938\n",
            "local loss:  0.8363968133926392\n",
            "local loss:  1.1700854301452637\n",
            "######## end of EPOCH:  7  LOSS:  882.5578079819679  ########\n",
            "local loss:  1.2481787204742432\n",
            "local loss:  1.0280282497406006\n",
            "local loss:  1.2462146282196045\n",
            "local loss:  1.3011536598205566\n",
            "local loss:  0.9374832510948181\n",
            "local loss:  0.9855907559394836\n",
            "local loss:  1.0103946924209595\n",
            "local loss:  1.0131593942642212\n",
            "######## end of EPOCH:  8  LOSS:  833.6560372710228  ########\n",
            "local loss:  0.8469444513320923\n",
            "local loss:  1.0111491680145264\n",
            "local loss:  0.7760747671127319\n",
            "local loss:  1.190737247467041\n",
            "local loss:  0.8641371130943298\n",
            "local loss:  1.0612483024597168\n",
            "local loss:  0.9550545811653137\n",
            "local loss:  0.9203779697418213\n",
            "######## end of EPOCH:  9  LOSS:  789.8412145972252  ########\n",
            "local loss:  0.9367071390151978\n",
            "local loss:  1.2159245014190674\n",
            "local loss:  1.3182870149612427\n",
            "local loss:  0.900155782699585\n",
            "local loss:  1.0589679479599\n",
            "local loss:  0.9656976461410522\n",
            "local loss:  1.1504353284835815\n",
            "local loss:  1.0452213287353516\n",
            "######## end of EPOCH:  10  LOSS:  753.9988934993744  ########\n",
            "local loss:  0.9043351411819458\n",
            "local loss:  0.8793802261352539\n",
            "local loss:  0.8303248286247253\n",
            "local loss:  1.0462737083435059\n",
            "local loss:  0.9313296675682068\n",
            "local loss:  0.8780872821807861\n",
            "local loss:  1.1503304243087769\n",
            "local loss:  0.6069295406341553\n",
            "######## end of EPOCH:  11  LOSS:  718.3039159178734  ########\n",
            "local loss:  0.9764723777770996\n",
            "local loss:  0.7726818323135376\n",
            "local loss:  0.6428332328796387\n",
            "local loss:  1.0204838514328003\n",
            "local loss:  1.1935029029846191\n",
            "local loss:  0.9043205380439758\n",
            "local loss:  0.8849086761474609\n",
            "local loss:  0.7272481918334961\n",
            "######## end of EPOCH:  12  LOSS:  685.0209152400494  ########\n",
            "local loss:  0.9268840551376343\n",
            "local loss:  0.7308100461959839\n",
            "local loss:  0.7949928045272827\n",
            "local loss:  1.2788640260696411\n",
            "local loss:  0.8502367734909058\n",
            "local loss:  0.7261450886726379\n",
            "local loss:  0.7473739981651306\n",
            "local loss:  0.8865581154823303\n",
            "######## end of EPOCH:  13  LOSS:  652.3361003100872  ########\n",
            "local loss:  0.7427256107330322\n",
            "local loss:  0.6769999861717224\n",
            "local loss:  0.7714396119117737\n",
            "local loss:  0.7979755401611328\n",
            "local loss:  0.6384626626968384\n",
            "local loss:  0.8081921339035034\n",
            "local loss:  0.9981722831726074\n",
            "local loss:  0.8647530674934387\n",
            "######## end of EPOCH:  14  LOSS:  620.3113290071487  ########\n",
            "local loss:  0.7353870868682861\n",
            "local loss:  0.7829654216766357\n",
            "local loss:  0.7781738042831421\n",
            "local loss:  0.6456670165061951\n",
            "local loss:  0.8389430046081543\n",
            "local loss:  0.8746762275695801\n",
            "local loss:  0.589185357093811\n",
            "local loss:  0.7354975938796997\n",
            "######## end of EPOCH:  15  LOSS:  591.517118871212  ########\n"
          ],
          "name": "stdout"
        }
      ]
    },
    {
      "cell_type": "code",
      "metadata": {
        "id": "ClG6iGq6YfOQ",
        "colab_type": "code",
        "colab": {
          "base_uri": "https://localhost:8080/",
          "height": 34
        },
        "outputId": "1a6bf4a6-9bd8-473e-d162-8cfdf1a56688"
      },
      "source": [
        "correct=0\n",
        "total=0\n",
        "for images,labels in test_batch:\n",
        "  images=Variable(images).cuda()\n",
        "  labels=Variable(labels).cuda()\n",
        "  \n",
        "  output = network(images)\n",
        "  _, predicted = torch.max(output,1)\n",
        "  correct += (predicted == labels).sum()\n",
        "  total += labels.size(0)\n",
        "print(\"accuracy: \",(100*correct)/(total+1))"
      ],
      "execution_count": 191,
      "outputs": [
        {
          "output_type": "stream",
          "text": [
            "accuracy:  tensor(68, device='cuda:0')\n"
          ],
          "name": "stdout"
        }
      ]
    }
  ]
}